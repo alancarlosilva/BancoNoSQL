{
  "nbformat": 4,
  "nbformat_minor": 0,
  "metadata": {
    "name": "Exercicio_Final_NASA",
    "notebookId": 4456353266215716,
    "colab": {
      "name": "Exercicio_Final_NASA.ipynb",
      "provenance": [],
      "include_colab_link": true
    }
  },
  "cells": [
    {
      "cell_type": "markdown",
      "metadata": {
        "id": "view-in-github",
        "colab_type": "text"
      },
      "source": [
        "<a href=\"https://colab.research.google.com/github/alancarlosilva/BancoNoSQL/blob/master/Exercicio_Final_NASA.ipynb\" target=\"_parent\"><img src=\"https://colab.research.google.com/assets/colab-badge.svg\" alt=\"Open In Colab\"/></a>"
      ]
    },
    {
      "cell_type": "code",
      "metadata": {
        "id": "gt-UvaUg0TSH",
        "colab_type": "code",
        "colab": {},
        "outputId": "50261a21-3b3c-450c-ed64-133c78f1760a"
      },
      "source": [
        "#importando as bibliotecas\n",
        "from pyspark import SparkContext\n",
        "from pyspark.sql import SparkSession\n",
        "from pyspark.sql.functions import col, column, substring\n",
        "import pyspark.sql.functions as F\n",
        "import pandas as pd\n",
        "import csv\n",
        "\n",
        "\n",
        "#localização dos arquivos no Databricks\n",
        "data_a = \"/FileStore/tables/NASA_Jul95.csv\"\n",
        "data_b = \"/FileStore/tables/NASA_Aug95.csv\""
      ],
      "execution_count": 0,
      "outputs": [
        {
          "output_type": "display_data",
          "data": {
            "text/html": [
              "<style scoped>\n",
              "  .ansiout {\n",
              "    display: block;\n",
              "    unicode-bidi: embed;\n",
              "    white-space: pre-wrap;\n",
              "    word-wrap: break-word;\n",
              "    word-break: break-all;\n",
              "    font-family: \"Source Code Pro\", \"Menlo\", monospace;;\n",
              "    font-size: 13px;\n",
              "    color: #555;\n",
              "    margin-left: 4px;\n",
              "    line-height: 19px;\n",
              "  }\n",
              "</style>\n",
              "<div class=\"ansiout\"></div>"
            ]
          },
          "metadata": {
            "tags": []
          }
        }
      ]
    },
    {
      "cell_type": "code",
      "metadata": {
        "id": "8PMhGcND0TSQ",
        "colab_type": "code",
        "colab": {},
        "outputId": "483bc4ef-3111-4676-ed53-508c86ff0ff3"
      },
      "source": [
        "#Iniciando a sessão Spark usando SparkSession\n",
        "spark = SparkSession \\\n",
        "    .builder \\\n",
        "    .appName(\"Python Spark - Nasa\") \\\n",
        "    .config(\"spark.some.config.option\", \"some-value\") \\\n",
        "    .getOrCreate()"
      ],
      "execution_count": 0,
      "outputs": [
        {
          "output_type": "display_data",
          "data": {
            "text/html": [
              "<style scoped>\n",
              "  .ansiout {\n",
              "    display: block;\n",
              "    unicode-bidi: embed;\n",
              "    white-space: pre-wrap;\n",
              "    word-wrap: break-word;\n",
              "    word-break: break-all;\n",
              "    font-family: \"Source Code Pro\", \"Menlo\", monospace;;\n",
              "    font-size: 13px;\n",
              "    color: #555;\n",
              "    margin-left: 4px;\n",
              "    line-height: 19px;\n",
              "  }\n",
              "</style>\n",
              "<div class=\"ansiout\"></div>"
            ]
          },
          "metadata": {
            "tags": []
          }
        }
      ]
    },
    {
      "cell_type": "code",
      "metadata": {
        "id": "UU_VbmYT0TSU",
        "colab_type": "code",
        "colab": {},
        "outputId": "9d5e485c-bc3e-4efe-a0bd-b24921de44d4"
      },
      "source": [
        "#Definindo o tipo de arquivo como \"csv\", a primeira linha não vai como cabeçalho.\n",
        "#Passado como parâmetro e exibindo os primeiros registros. As variáveis df_data_a e df_data_b conterá o DataFrame correspondente ao arquivo aberto\n",
        "df_data_a = spark.read.format(\"csv\")\\\n",
        "            .option(\"delimiter\", \" \")\\\n",
        "            .option(\"multilines\", \"true\")\\\n",
        "            .option(\"quotes\", '\"\"')\\\n",
        "            .option(\"header\", \"false\")\\\n",
        "            .load(data_a)\\\n",
        "            .toDF(\"host\", \"a\", \"b\", \"dias\", \"time_zone\", \"request\", \"http\", \"bytes\")\n",
        "\n",
        "df_data_b = spark.read.format(\"csv\")\\\n",
        "            .option(\"delimiter\", \" \")\\\n",
        "            .option(\"multilines\", \"true\")\\\n",
        "            .option(\"quotes\", '\"\"')\\\n",
        "            .option(\"header\", \"false\")\\\n",
        "            .load(data_b)\\\n",
        "            .toDF(\"host\", \"a\", \"b\", \"dias\", \"time_zone\", \"request\", \"http\", \"bytes\")"
      ],
      "execution_count": 0,
      "outputs": [
        {
          "output_type": "display_data",
          "data": {
            "text/html": [
              "<style scoped>\n",
              "  .ansiout {\n",
              "    display: block;\n",
              "    unicode-bidi: embed;\n",
              "    white-space: pre-wrap;\n",
              "    word-wrap: break-word;\n",
              "    word-break: break-all;\n",
              "    font-family: \"Source Code Pro\", \"Menlo\", monospace;;\n",
              "    font-size: 13px;\n",
              "    color: #555;\n",
              "    margin-left: 4px;\n",
              "    line-height: 19px;\n",
              "  }\n",
              "</style>\n",
              "<div class=\"ansiout\"></div>"
            ]
          },
          "metadata": {
            "tags": []
          }
        }
      ]
    },
    {
      "cell_type": "code",
      "metadata": {
        "id": "YxPvfRGw0TSY",
        "colab_type": "code",
        "colab": {},
        "outputId": "466889aa-8b94-489b-ddf2-04ebfad6a49a"
      },
      "source": [
        "#mostrando os dez primeiros resultados de NASA_Jul95\n",
        "df_data_a.show(10,truncate = False)\n",
        "df_data_b.show(10,truncate = False)"
      ],
      "execution_count": 0,
      "outputs": [
        {
          "output_type": "display_data",
          "data": {
            "text/html": [
              "<style scoped>\n",
              "  .ansiout {\n",
              "    display: block;\n",
              "    unicode-bidi: embed;\n",
              "    white-space: pre-wrap;\n",
              "    word-wrap: break-word;\n",
              "    word-break: break-all;\n",
              "    font-family: \"Source Code Pro\", \"Menlo\", monospace;;\n",
              "    font-size: 13px;\n",
              "    color: #555;\n",
              "    margin-left: 4px;\n",
              "    line-height: 19px;\n",
              "  }\n",
              "</style>\n",
              "<div class=\"ansiout\">+--------------------+---+---+---------------------+---------+------------------------------------------------------------+----+-----+\n",
              "host                |a  |b  |dias                 |time_zone|request                                                     |http|bytes|\n",
              "+--------------------+---+---+---------------------+---------+------------------------------------------------------------+----+-----+\n",
              "199.72.81.55        |-  |-  |[01/Jul/1995:00:00:01|-0400]   |GET /history/apollo/ HTTP/1.0                               |200 |6245 |\n",
              "unicomp6.unicomp.net|-  |-  |[01/Jul/1995:00:00:06|-0400]   |GET /shuttle/countdown/ HTTP/1.0                            |200 |3985 |\n",
              "199.120.110.21      |-  |-  |[01/Jul/1995:00:00:09|-0400]   |GET /shuttle/missions/sts-73/mission-sts-73.html HTTP/1.0   |200 |4085 |\n",
              "burger.letters.com  |-  |-  |[01/Jul/1995:00:00:11|-0400]   |GET /shuttle/countdown/liftoff.html HTTP/1.0                |304 |0    |\n",
              "199.120.110.21      |-  |-  |[01/Jul/1995:00:00:11|-0400]   |GET /shuttle/missions/sts-73/sts-73-patch-small.gif HTTP/1.0|200 |4179 |\n",
              "burger.letters.com  |-  |-  |[01/Jul/1995:00:00:12|-0400]   |GET /images/NASA-logosmall.gif HTTP/1.0                     |304 |0    |\n",
              "burger.letters.com  |-  |-  |[01/Jul/1995:00:00:12|-0400]   |GET /shuttle/countdown/video/livevideo.gif HTTP/1.0         |200 |0    |\n",
              "205.212.115.106     |-  |-  |[01/Jul/1995:00:00:12|-0400]   |GET /shuttle/countdown/countdown.html HTTP/1.0              |200 |3985 |\n",
              "d104.aa.net         |-  |-  |[01/Jul/1995:00:00:13|-0400]   |GET /shuttle/countdown/ HTTP/1.0                            |200 |3985 |\n",
              "129.94.144.152      |-  |-  |[01/Jul/1995:00:00:13|-0400]   |GET / HTTP/1.0                                              |200 |7074 |\n",
              "+--------------------+---+---+---------------------+---------+------------------------------------------------------------+----+-----+\n",
              "only showing top 10 rows\n",
              "\n",
              "+---------------------------+---+---+---------------------+---------+------------------------------------------------------------+----+-----+\n",
              "host                       |a  |b  |dias                 |time_zone|request                                                     |http|bytes|\n",
              "+---------------------------+---+---+---------------------+---------+------------------------------------------------------------+----+-----+\n",
              "in24.inetnebr.com          |-  |-  |[01/Aug/1995:00:00:01|-0400]   |GET /shuttle/missions/sts-68/news/sts-68-mcc-05.txt HTTP/1.0|200 |1839 |\n",
              "uplherc.upl.com            |-  |-  |[01/Aug/1995:00:00:07|-0400]   |GET / HTTP/1.0                                              |304 |0    |\n",
              "uplherc.upl.com            |-  |-  |[01/Aug/1995:00:00:08|-0400]   |GET /images/ksclogo-medium.gif HTTP/1.0                     |304 |0    |\n",
              "uplherc.upl.com            |-  |-  |[01/Aug/1995:00:00:08|-0400]   |GET /images/MOSAIC-logosmall.gif HTTP/1.0                   |304 |0    |\n",
              "uplherc.upl.com            |-  |-  |[01/Aug/1995:00:00:08|-0400]   |GET /images/USA-logosmall.gif HTTP/1.0                      |304 |0    |\n",
              "ix-esc-ca2-07.ix.netcom.com|-  |-  |[01/Aug/1995:00:00:09|-0400]   |GET /images/launch-logo.gif HTTP/1.0                        |200 |1713 |\n",
              "uplherc.upl.com            |-  |-  |[01/Aug/1995:00:00:10|-0400]   |GET /images/WORLD-logosmall.gif HTTP/1.0                    |304 |0    |\n",
              "slppp6.intermind.net       |-  |-  |[01/Aug/1995:00:00:10|-0400]   |GET /history/skylab/skylab.html HTTP/1.0                    |200 |1687 |\n",
              "piweba4y.prodigy.com       |-  |-  |[01/Aug/1995:00:00:10|-0400]   |GET /images/launchmedium.gif HTTP/1.0                       |200 |11853|\n",
              "slppp6.intermind.net       |-  |-  |[01/Aug/1995:00:00:11|-0400]   |GET /history/skylab/skylab-small.gif HTTP/1.0               |200 |9202 |\n",
              "+---------------------------+---+---+---------------------+---------+------------------------------------------------------------+----+-----+\n",
              "only showing top 10 rows\n",
              "\n",
              "</div>"
            ]
          },
          "metadata": {
            "tags": []
          }
        }
      ]
    },
    {
      "cell_type": "code",
      "metadata": {
        "id": "wR52zMPX0TSc",
        "colab_type": "code",
        "colab": {},
        "outputId": "1a7e376d-2343-40cd-a234-b83a169ff2af"
      },
      "source": [
        "#Vamos tirar algumas colunas desnecessárias em nosso data Frame utilizando spark.sql\n",
        "df_data_a.createOrReplaceTempView(\"NASA_Jul95\")\n",
        "df_data_b.createOrReplaceTempView(\"NASA_Aug95\")\n",
        "\n",
        "df1 = spark.sql(\"Select host, dias, request, http, bytes from NASA_Jul95\")\n",
        "df2 = spark.sql(\"Select host, dias, request, http, bytes from NASA_Aug95\")\n",
        "\n",
        "#Vamos fazer um union dos dois datasets para respondermos as perguntas abaixo \n",
        "access_log = df1.union(df2)"
      ],
      "execution_count": 0,
      "outputs": [
        {
          "output_type": "display_data",
          "data": {
            "text/html": [
              "<style scoped>\n",
              "  .ansiout {\n",
              "    display: block;\n",
              "    unicode-bidi: embed;\n",
              "    white-space: pre-wrap;\n",
              "    word-wrap: break-word;\n",
              "    word-break: break-all;\n",
              "    font-family: \"Source Code Pro\", \"Menlo\", monospace;;\n",
              "    font-size: 13px;\n",
              "    color: #555;\n",
              "    margin-left: 4px;\n",
              "    line-height: 19px;\n",
              "  }\n",
              "</style>\n",
              "<div class=\"ansiout\"></div>"
            ]
          },
          "metadata": {
            "tags": []
          }
        }
      ]
    },
    {
      "cell_type": "code",
      "metadata": {
        "id": "uqwqukGt0TSh",
        "colab_type": "code",
        "colab": {},
        "outputId": "e1c855cf-29bb-4489-e4a5-2328e0ee5fb0"
      },
      "source": [
        "#1. Número de hosts únicos.\n",
        "#Vamos utlizar a função select com filtro em host e distinct\n",
        "access_log.select(\"host\").distinct().count()"
      ],
      "execution_count": 0,
      "outputs": [
        {
          "output_type": "display_data",
          "data": {
            "text/html": [
              "<style scoped>\n",
              "  .ansiout {\n",
              "    display: block;\n",
              "    unicode-bidi: embed;\n",
              "    white-space: pre-wrap;\n",
              "    word-wrap: break-word;\n",
              "    word-break: break-all;\n",
              "    font-family: \"Source Code Pro\", \"Menlo\", monospace;;\n",
              "    font-size: 13px;\n",
              "    color: #555;\n",
              "    margin-left: 4px;\n",
              "    line-height: 19px;\n",
              "  }\n",
              "</style>\n",
              "<div class=\"ansiout\">Out[6]: 137979</div>"
            ]
          },
          "metadata": {
            "tags": []
          }
        }
      ]
    },
    {
      "cell_type": "code",
      "metadata": {
        "id": "k0RCRvrY0TSm",
        "colab_type": "code",
        "colab": {},
        "outputId": "4a229773-cb3f-4b06-f6b1-f979efd0f4c1"
      },
      "source": [
        "#2. O total de erros 404.\n",
        "#Existem algumas maneiras de fazermos esse filtro pelo código de erro 404, primeiro vamos usar código SQL\n",
        "access_log.createOrReplaceTempView(\"Erro404\")\n",
        "\n",
        "spark.sql(\"Select * from Erro404 where http='404'\").count()\n",
        "\n",
        "#Segundo vamos usar filter\n",
        "access_log.filter(access_log['http'].contains('404')).count()"
      ],
      "execution_count": 0,
      "outputs": [
        {
          "output_type": "display_data",
          "data": {
            "text/html": [
              "<style scoped>\n",
              "  .ansiout {\n",
              "    display: block;\n",
              "    unicode-bidi: embed;\n",
              "    white-space: pre-wrap;\n",
              "    word-wrap: break-word;\n",
              "    word-break: break-all;\n",
              "    font-family: \"Source Code Pro\", \"Menlo\", monospace;;\n",
              "    font-size: 13px;\n",
              "    color: #555;\n",
              "    margin-left: 4px;\n",
              "    line-height: 19px;\n",
              "  }\n",
              "</style>\n",
              "<div class=\"ansiout\">Out[7]: 20871</div>"
            ]
          },
          "metadata": {
            "tags": []
          }
        }
      ]
    },
    {
      "cell_type": "code",
      "metadata": {
        "id": "lvyUX36A0TSq",
        "colab_type": "code",
        "colab": {},
        "outputId": "9a6686ef-763e-4438-d6f1-4545f524340e"
      },
      "source": [
        "#3. Os 5 URLs que mais causaram erro 404.\n",
        "#Primeiro exemplo vamos usar SQL para mostrar as 5 URLs com mais erros\n",
        "spark.sql(\"Select host, count(host) as qtde from Erro404 where http='404' group by host order by 2 desc limit 5\").show(10, truncate=False)\n",
        "\n",
        "#Segundo vamos utilizar funções\n",
        "access_log.select('host').where(\"http='404'\").groupBy('host').count().orderBy('count',ascending=False).limit(5).show(truncate=False)"
      ],
      "execution_count": 0,
      "outputs": [
        {
          "output_type": "display_data",
          "data": {
            "text/html": [
              "<style scoped>\n",
              "  .ansiout {\n",
              "    display: block;\n",
              "    unicode-bidi: embed;\n",
              "    white-space: pre-wrap;\n",
              "    word-wrap: break-word;\n",
              "    word-break: break-all;\n",
              "    font-family: \"Source Code Pro\", \"Menlo\", monospace;;\n",
              "    font-size: 13px;\n",
              "    color: #555;\n",
              "    margin-left: 4px;\n",
              "    line-height: 19px;\n",
              "  }\n",
              "</style>\n",
              "<div class=\"ansiout\">+---------------------------+----+\n",
              "host                       |qtde|\n",
              "+---------------------------+----+\n",
              "hoohoo.ncsa.uiuc.edu       |251 |\n",
              "piweba3y.prodigy.com       |156 |\n",
              "jbiagioni.npt.nuwc.navy.mil|132 |\n",
              "piweba1y.prodigy.com       |114 |\n",
              "www-d4.proxy.aol.com       |91  |\n",
              "+---------------------------+----+\n",
              "\n",
              "+---------------------------+-----+\n",
              "host                       |count|\n",
              "+---------------------------+-----+\n",
              "hoohoo.ncsa.uiuc.edu       |251  |\n",
              "piweba3y.prodigy.com       |156  |\n",
              "jbiagioni.npt.nuwc.navy.mil|132  |\n",
              "piweba1y.prodigy.com       |114  |\n",
              "www-d4.proxy.aol.com       |91   |\n",
              "+---------------------------+-----+\n",
              "\n",
              "</div>"
            ]
          },
          "metadata": {
            "tags": []
          }
        }
      ]
    },
    {
      "cell_type": "code",
      "metadata": {
        "id": "XUtfqa3E0TSt",
        "colab_type": "code",
        "colab": {},
        "outputId": "df63786b-98b5-4e8b-9762-dbd727df61f4"
      },
      "source": [
        "#4. Quantidade de erros 404 por dia.\n",
        "\n",
        "spark.sql(\"Select substring(dias, 2,11) as dias, count('dias') from Erro404 where http='404' group by 1\").show(10, truncate=False)\n"
      ],
      "execution_count": 0,
      "outputs": [
        {
          "output_type": "display_data",
          "data": {
            "text/html": [
              "<style scoped>\n",
              "  .ansiout {\n",
              "    display: block;\n",
              "    unicode-bidi: embed;\n",
              "    white-space: pre-wrap;\n",
              "    word-wrap: break-word;\n",
              "    word-break: break-all;\n",
              "    font-family: \"Source Code Pro\", \"Menlo\", monospace;;\n",
              "    font-size: 13px;\n",
              "    color: #555;\n",
              "    margin-left: 4px;\n",
              "    line-height: 19px;\n",
              "  }\n",
              "</style>\n",
              "<div class=\"ansiout\">+-----------+-----------+\n",
              "dias       |count(dias)|\n",
              "+-----------+-----------+\n",
              "02/Jul/1995|291        |\n",
              "21/Aug/1995|305        |\n",
              "06/Aug/1995|373        |\n",
              "16/Jul/1995|257        |\n",
              "07/Aug/1995|537        |\n",
              "11/Aug/1995|263        |\n",
              "27/Jul/1995|336        |\n",
              "07/Jul/1995|569        |\n",
              "17/Jul/1995|406        |\n",
              "15/Jul/1995|254        |\n",
              "+-----------+-----------+\n",
              "only showing top 10 rows\n",
              "\n",
              "</div>"
            ]
          },
          "metadata": {
            "tags": []
          }
        }
      ]
    },
    {
      "cell_type": "code",
      "metadata": {
        "id": "HPiZxnHs0TSx",
        "colab_type": "code",
        "colab": {},
        "outputId": "1744f0ac-54b2-4359-dfe5-ee1365098bcc"
      },
      "source": [
        "#5. O total de bytes retornados.\n",
        "#Utilizando função select\n",
        "access_log.select(F.sum('bytes')).show()\n",
        "\n",
        "#Utilizando spark.sql\n",
        "access_log.createOrReplaceTempView(\"TotalBytes\")\n",
        "\n",
        "spark.sql(\"Select sum(bytes) as total_bytes from TotalBytes\").show(truncate=False)"
      ],
      "execution_count": 0,
      "outputs": [
        {
          "output_type": "display_data",
          "data": {
            "text/html": [
              "<style scoped>\n",
              "  .ansiout {\n",
              "    display: block;\n",
              "    unicode-bidi: embed;\n",
              "    white-space: pre-wrap;\n",
              "    word-wrap: break-word;\n",
              "    word-break: break-all;\n",
              "    font-family: \"Source Code Pro\", \"Menlo\", monospace;;\n",
              "    font-size: 13px;\n",
              "    color: #555;\n",
              "    margin-left: 4px;\n",
              "    line-height: 19px;\n",
              "  }\n",
              "</style>\n",
              "<div class=\"ansiout\">+---------------+\n",
              "     sum(bytes)|\n",
              "+---------------+\n",
              "6.5524319796E10|\n",
              "+---------------+\n",
              "\n",
              "+---------------+\n",
              "total_bytes    |\n",
              "+---------------+\n",
              "6.5524319796E10|\n",
              "+---------------+\n",
              "\n",
              "</div>"
            ]
          },
          "metadata": {
            "tags": []
          }
        }
      ]
    }
  ]
}